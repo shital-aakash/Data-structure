{
  "cells": [
    {
      "cell_type": "markdown",
      "source": [
        "Q1:what are data structures,and why are they important?\n",
        "Ans:way of storing and organising data so that it can be accessed and manipulatesd efficiently.\n",
        "\n",
        "Q2:Explain the difference between mutable and immutable data types with example?\n",
        "Ans:Mutability:objects/container whose state or value can be changed after they are created\n",
        "example:list\n",
        "I=[10,-4,23,50]\n",
        "Print(I)\n",
        "I(0)=\"Darshan\"\n",
        "print(I)\n",
        "[\"Darshan\",-4,23,50]\n",
        "\n",
        "Immutability: objects whose state or value can not be changed after they are created\n",
        "example:string\n",
        "b=\"pwskills\"\n",
        "b[0]=\"I\"\n",
        "error\n",
        "\n",
        "Q3:What are the main differences between lists and tuples in python?\n",
        "Ans:Lists are mutable.\n",
        "Lists are defined using square bracket[]\n",
        "Lists are used when you need a collection of items that can change.\n",
        "\n",
        "Tuples are immutable.\n",
        "Tuples are defined using parenthesis()\n",
        "Tuples are used when you need a fixed collectin of items.\n",
        "  \n",
        "Q4:Describe how dictinary stores data?\n",
        "-dictionary stores data in the form of key value pair using a hash based structure.\n",
        "\n",
        "Q5. Why might you use a set instead of a list in Python?\n",
        "- Set automatically eliminate duplicate values\n",
        "- perform a fast lookup\n",
        "- Calculate the intersection and union of two sets\n",
        "- As you don’t need to store duplicate values it reduces the memory usage\n",
        "Q6. What is a string in Python and how it is different form a list?\n",
        "- String is the sequence of characters enclosed within single, double and triple quotes.\n",
        "Whereas list is a sequence of any data type string is immutable and list are mutable while both\n",
        "support indexing and slicing.\n",
        "Q7. How do tuples ensure data integrity in Python?\n",
        "- Tuples are immutable, means their value cannot be altered after creation. Data store is\n",
        "tuple is remained consistent. Tuples reduce the risk of data corruption or inconsistence\n",
        "which means tuples ensure the data integrity.\n",
        "Q8. What is a hash table and how does it related to dictionaries in Python?\n",
        "-Hash table are a fundamental data structure in Python, implemented as dictionaries. Hash\n",
        "table stores data as key value pairs. Python dictionaries are built using hash tables, allowing\n",
        "quick access to values by their unique keys\n",
        "Q9. Can list contain different data types in Python?\n",
        "-Yes, list contains different data types such as integer, string, float complex numbers.\n",
        "Q10. Explain why strings are immutable in Python.\n",
        "- Strings are immutable in Python to enhance performance &amp; security. Also efficient memory\n",
        "management and simplified implementation. Different string operation improves the\n",
        "reliability of code.\n",
        "Q11. What advantages do dictionaries offer over list for certain tasks?\n",
        "- Dictionaries provide constant time complexity for lookups by key , making them more\n",
        "efficient than lists for tasks that involve frequent data retrieval. List requires linear time to\n",
        "search for elements especially in large data sets.\n",
        "Q12. Describe a scenario where using a tuple would be preferable over a list.\n",
        "- Tuples are used when data should remain constant, such as Aadhar card, employee ID,\n",
        "ATMs. Using tuple data can&#39;t be modified as it is immutable which maintain the integrity of\n",
        "store values.\n",
        "Q13. How do sets handle duplicate values in python?\n",
        "- Sets in Python automatically remove duplicate values ensuring each element is unique.\n",
        "\n",
        "Q14. How does the “in” keyword work differently for list and dictionaries?\n",
        "- For lists, the “in” keyword checks if a value exists within the list by summing each element.\n",
        "For dictionaries it checks if a key exists directly, providing faster look up times due to hash-\n",
        "based structure of dictionaries.\n",
        "Q15. Can you modify the elements of a tuple? explain why or why not?\n",
        "- No, element of tuple can&#39;t be modified because tuples are immutable. Their content are\n",
        "fixed, the data should remain unchanged throughout the programme.\n",
        "Q16. What is a nested dictionary, and give an example of its use case?\n",
        "- A nested dictionary is a dictionary within another dictionary. It is useful for storing\n",
        "hierarchical data, such as directory of users which each user has their personal data.\n",
        "Q17. Describe the time complexity of accessing element in a dictionary\n",
        "- The average time complexity of accessing element in dictionary is constant time 0(1).\n",
        "Q18. In what situations are lists preferred over dictionaries?\n",
        "- List are preferred when the order of element matters, or when indexing by position is\n",
        "needed. And it is suitable for task that ensure sequence manipulation.\n",
        "Q19. Why are dictionaries considered unordered, and how does that affect data retrieval?\n",
        "- Dictionaries are unordered because they do not maintain a specific sequence for their keys\n",
        "and values. This data does not affect the data retrieval as it is done by keys. Dictionaries provide\n",
        "direct access to values throughout hashing.\n",
        "Q20. Explain the difference between a lists and dictionary in terms of data retrieval.\n",
        "- In list, data retrieval involves accessing element by index. In dictionary, data access by keys\n",
        "where you can access values using their corresponding keys."
      ],
      "metadata": {
        "id": "uOn875pV9Izn"
      }
    },
    {
      "cell_type": "code",
      "source": [
        "#write a code to create a string with your name and print it\n",
        "name=\"shital\"\n",
        "my_name=f\"my name is ,{name}\"\n",
        "print(my_name)"
      ],
      "metadata": {
        "colab": {
          "base_uri": "https://localhost:8080/"
        },
        "id": "VfatAHYB9Ffx",
        "outputId": "79ffdf6b-d49a-4eb3-88a5-47aacff6c88e"
      },
      "execution_count": null,
      "outputs": [
        {
          "output_type": "stream",
          "name": "stdout",
          "text": [
            "my name is ,shital\n"
          ]
        }
      ]
    },
    {
      "cell_type": "code",
      "source": [
        "#write a code to find the length of the string \"hello world\"\n",
        "string=\"Hello world\"\n",
        "length=len(string)\n",
        "print(length)"
      ],
      "metadata": {
        "colab": {
          "base_uri": "https://localhost:8080/"
        },
        "id": "2j7N-lquByjd",
        "outputId": "5017fa6c-901b-46b5-845e-a9e538da19da"
      },
      "execution_count": null,
      "outputs": [
        {
          "output_type": "stream",
          "name": "stdout",
          "text": [
            "11\n"
          ]
        }
      ]
    },
    {
      "cell_type": "code",
      "source": [
        "#write a code to slice the first 3 chracters from the string 'Python Programming'\n",
        "string=\"Python Programming\"\n",
        "sliced_string=string[:3]\n",
        "print(sliced_string)"
      ],
      "metadata": {
        "colab": {
          "base_uri": "https://localhost:8080/"
        },
        "id": "Gpbk9FX9CrW6",
        "outputId": "6477fe00-d4f0-4725-e14d-e87eb3f56034"
      },
      "execution_count": null,
      "outputs": [
        {
          "output_type": "stream",
          "name": "stdout",
          "text": [
            "Pyt\n"
          ]
        }
      ]
    },
    {
      "cell_type": "code",
      "source": [
        "#write a code to convert the string \"hello\" to uppercase\n",
        "string=\"hello\"\n",
        "uppercase_string=string.upper()\n",
        "print(uppercase_string)"
      ],
      "metadata": {
        "colab": {
          "base_uri": "https://localhost:8080/"
        },
        "id": "LeDSdWCfD072",
        "outputId": "1f035c48-b6ed-46c5-8a9e-e9d4a21b2b76"
      },
      "execution_count": null,
      "outputs": [
        {
          "output_type": "stream",
          "name": "stdout",
          "text": [
            "HELLO\n"
          ]
        }
      ]
    },
    {
      "cell_type": "code",
      "source": [
        "#write a code to replace the word \"apple\" with \"orange\"in the string 'I like apple'\n",
        "string=\"I like apple\"\n",
        "replaced_string=string.replace(\"apple\",\"orange\")\n",
        "print(replaced_string)"
      ],
      "metadata": {
        "colab": {
          "base_uri": "https://localhost:8080/"
        },
        "id": "3WvhggQRESol",
        "outputId": "6fa7ad11-edc2-4d83-a084-8b2a9a07126d"
      },
      "execution_count": null,
      "outputs": [
        {
          "output_type": "stream",
          "name": "stdout",
          "text": [
            "I like orange\n"
          ]
        }
      ]
    },
    {
      "cell_type": "code",
      "source": [
        "#write a code to create a list with numbers 1 to 5 and print it\n",
        "numbers=[1,2,3,4,5]\n",
        "print(numbers)"
      ],
      "metadata": {
        "colab": {
          "base_uri": "https://localhost:8080/"
        },
        "id": "t0f8Y3rWFFda",
        "outputId": "28bb2c44-26b9-4cd9-c44b-1bb5394e7c0e"
      },
      "execution_count": null,
      "outputs": [
        {
          "output_type": "stream",
          "name": "stdout",
          "text": [
            "[1, 2, 3, 4, 5]\n"
          ]
        }
      ]
    },
    {
      "cell_type": "code",
      "source": [
        "#write a code to append the number 10 to the list [1,2,3,4]\n",
        "numbers=[1,2,3,4]\n",
        "numbers.append(10)\n",
        "print(numbers)"
      ],
      "metadata": {
        "colab": {
          "base_uri": "https://localhost:8080/"
        },
        "id": "Dgh3Zc6BHyji",
        "outputId": "0a221bd7-483e-45d3-e732-126e2f872b3a"
      },
      "execution_count": null,
      "outputs": [
        {
          "output_type": "stream",
          "name": "stdout",
          "text": [
            "[1, 2, 3, 4, 10]\n"
          ]
        }
      ]
    },
    {
      "cell_type": "code",
      "source": [
        "#write a code to remove the number 3 from the list[1,2,3,4,5]\n",
        "numbers=[1,2,3,4,5]\n",
        "numbers.remove(3)\n",
        "print(numbers)"
      ],
      "metadata": {
        "colab": {
          "base_uri": "https://localhost:8080/"
        },
        "id": "A2DCXPo0IMaI",
        "outputId": "15165c3d-f2ec-4d46-96e2-f45566a530b2"
      },
      "execution_count": null,
      "outputs": [
        {
          "output_type": "stream",
          "name": "stdout",
          "text": [
            "[1, 2, 4, 5]\n"
          ]
        }
      ]
    },
    {
      "cell_type": "code",
      "source": [
        "#write a code to access the second element in the list ['a','b','c','d']\n",
        "letters=['a','b','c','d']\n",
        "second_element=letters[1]\n",
        "print(second_element)"
      ],
      "metadata": {
        "colab": {
          "base_uri": "https://localhost:8080/"
        },
        "id": "B90M27RIIm_e",
        "outputId": "f9191f2f-c2ba-4c17-e685-0655b8ef988c"
      },
      "execution_count": null,
      "outputs": [
        {
          "output_type": "stream",
          "name": "stdout",
          "text": [
            "b\n"
          ]
        }
      ]
    },
    {
      "cell_type": "code",
      "source": [
        "#write a code to reverse the list[10,20,30,40,50]\n",
        "numbers=[10,20,30,40,50]\n",
        "numbers.reverse()\n",
        "print(numbers)"
      ],
      "metadata": {
        "colab": {
          "base_uri": "https://localhost:8080/"
        },
        "id": "txMBjVooJFLm",
        "outputId": "1774bc3e-1cc0-466c-8c5b-4ea0e8f1994c"
      },
      "execution_count": null,
      "outputs": [
        {
          "output_type": "stream",
          "name": "stdout",
          "text": [
            "[50, 40, 30, 20, 10]\n"
          ]
        }
      ]
    },
    {
      "cell_type": "code",
      "source": [
        "#write a code to create a tuple with the elements 100,200,300 and print it\n",
        "numbers=(100,200,300)\n",
        "print(numbers)"
      ],
      "metadata": {
        "colab": {
          "base_uri": "https://localhost:8080/"
        },
        "id": "7gLQjQynJaid",
        "outputId": "ad4a11a8-f720-4f30-fa1f-7fdb8b6a930f"
      },
      "execution_count": null,
      "outputs": [
        {
          "output_type": "stream",
          "name": "stdout",
          "text": [
            "(100, 200, 300)\n"
          ]
        }
      ]
    },
    {
      "cell_type": "code",
      "source": [
        "#write a code to access the second-to-last element of the tuple ('red','green','blue','yellow')\n",
        "colors=('red','green','blue','yellow')\n",
        "second_to_last_element=colors[2]\n",
        "print(second_to_last_element)"
      ],
      "metadata": {
        "colab": {
          "base_uri": "https://localhost:8080/"
        },
        "id": "GwN4kudDKNzj",
        "outputId": "f3954546-6742-43ef-eb36-ce8be3fdbdf2"
      },
      "execution_count": null,
      "outputs": [
        {
          "output_type": "stream",
          "name": "stdout",
          "text": [
            "blue\n"
          ]
        }
      ]
    },
    {
      "cell_type": "code",
      "source": [
        "#write a code to find the minimum number in the tuple(10,20,5,50)\n",
        "numbers=(10,20,5,50)\n",
        "minimum_number=min(numbers)\n",
        "print(minimum_number)"
      ],
      "metadata": {
        "colab": {
          "base_uri": "https://localhost:8080/"
        },
        "id": "FFFOotShK4Lg",
        "outputId": "ad558c53-0752-47b5-becc-a3cce399748e"
      },
      "execution_count": null,
      "outputs": [
        {
          "output_type": "stream",
          "name": "stdout",
          "text": [
            "5\n"
          ]
        }
      ]
    },
    {
      "cell_type": "code",
      "source": [
        "#write a code to find the index of the element \"cat\" in the tuple ('dog','cat','rabbit')\n",
        "animals=('dog','cat','rabbit')\n",
        "index=animals.index('cat')\n",
        "print(index)"
      ],
      "metadata": {
        "colab": {
          "base_uri": "https://localhost:8080/"
        },
        "id": "kPGmMBTbLORP",
        "outputId": "0dfe1fd0-9faa-4a1b-bc50-017c766b760d"
      },
      "execution_count": null,
      "outputs": [
        {
          "output_type": "stream",
          "name": "stdout",
          "text": [
            "1\n"
          ]
        }
      ]
    },
    {
      "cell_type": "code",
      "source": [
        "#write a code to create a tuple containing three different fruits and check if \"kiwi\" is in it\n",
        "fruits=('mango','watermelon','banana')\n",
        "if 'kiwi' in fruits:\n",
        "    print(\"kiwi is in the tuple\")\n",
        "else:\n",
        "    print(\"kiwi is not in the tuple\")"
      ],
      "metadata": {
        "colab": {
          "base_uri": "https://localhost:8080/"
        },
        "id": "b965zB6iL5j2",
        "outputId": "31c19fc8-5e71-4611-dc9b-23ab12e8c3f4"
      },
      "execution_count": null,
      "outputs": [
        {
          "output_type": "stream",
          "name": "stdout",
          "text": [
            "kiwi is not in the tuple\n"
          ]
        }
      ]
    },
    {
      "cell_type": "code",
      "source": [
        "#write a code to create a set with the elements 'a','b','c' and print it\n",
        "letters={'a','b','c'}\n",
        "print(letters)\n"
      ],
      "metadata": {
        "colab": {
          "base_uri": "https://localhost:8080/"
        },
        "id": "2U-cpGlwM3Iy",
        "outputId": "5f90e369-8204-45a0-e366-9281e6336259"
      },
      "execution_count": null,
      "outputs": [
        {
          "output_type": "stream",
          "name": "stdout",
          "text": [
            "{'b', 'a', 'c'}\n"
          ]
        }
      ]
    },
    {
      "cell_type": "code",
      "source": [
        "#write a code to clear all elements from the set{1,2,3,4,5}\n",
        "numbers={1,2,3,4,5}\n",
        "numbers.clear()\n",
        "print(numbers)\n",
        "\n"
      ],
      "metadata": {
        "colab": {
          "base_uri": "https://localhost:8080/"
        },
        "id": "5YIJlzP9a-93",
        "outputId": "6955f0e6-08c3-4639-d0ee-fa827eebad78"
      },
      "execution_count": null,
      "outputs": [
        {
          "output_type": "stream",
          "name": "stdout",
          "text": [
            "set()\n"
          ]
        }
      ]
    },
    {
      "cell_type": "code",
      "source": [
        "#write a code to remove the element 4 from the set{1,2,3,4}\n",
        "numbers={1,2,3,4}\n",
        "numbers.remove(4)\n",
        "print(numbers)\n"
      ],
      "metadata": {
        "colab": {
          "base_uri": "https://localhost:8080/"
        },
        "id": "lmQ_8WK6bod0",
        "outputId": "d692734b-5578-46fa-f0bd-feab60191e2e"
      },
      "execution_count": null,
      "outputs": [
        {
          "output_type": "stream",
          "name": "stdout",
          "text": [
            "{1, 2, 3}\n"
          ]
        }
      ]
    },
    {
      "cell_type": "code",
      "source": [
        "#write a code code to find the union of two sets{1,2,3}and{3,4,5}\n",
        "set1={1,2,3}\n",
        "set2={3,4,5}\n",
        "union_set=set1.union(set2)\n",
        "print(union_set)"
      ],
      "metadata": {
        "colab": {
          "base_uri": "https://localhost:8080/"
        },
        "id": "cxri41zvcNRK",
        "outputId": "aea65249-434b-4153-cd64-6b3086e17261"
      },
      "execution_count": null,
      "outputs": [
        {
          "output_type": "stream",
          "name": "stdout",
          "text": [
            "{1, 2, 3, 4, 5}\n"
          ]
        }
      ]
    },
    {
      "cell_type": "code",
      "source": [
        "#write a code to create a dictionary with the keys \"name\",\"age\",and \"city\",and print it\n",
        "mydict={\n",
        "    \"name\":\"shital\",\n",
        "    \"age\":30,\n",
        "    \"city\":\"jalgaon\"\n",
        "}\n",
        "print(mydict)"
      ],
      "metadata": {
        "colab": {
          "base_uri": "https://localhost:8080/"
        },
        "id": "hwGbNWI4dBgQ",
        "outputId": "65cdb657-bc15-4baf-d51c-1314fa785398"
      },
      "execution_count": null,
      "outputs": [
        {
          "output_type": "stream",
          "name": "stdout",
          "text": [
            "{'name': 'shital', 'age': 30, 'city': 'jalgaon'}\n"
          ]
        }
      ]
    },
    {
      "cell_type": "code",
      "source": [
        "#write a code to add a new key-value pair\"country\":\"USA\" to the dictionary{'name:'John','age':30}\n",
        "mydict={\n",
        "    \"name\":\"John\",\n",
        "    \"age\":30\n",
        "}\n",
        "mydict[\"country\"]=\"USA\"\n",
        "print(mydict)"
      ],
      "metadata": {
        "colab": {
          "base_uri": "https://localhost:8080/"
        },
        "id": "YPTn3Zybe0hC",
        "outputId": "7d05f784-954f-401e-add9-b8e9604987e3"
      },
      "execution_count": null,
      "outputs": [
        {
          "output_type": "stream",
          "name": "stdout",
          "text": [
            "{'name': 'John', 'age': 30, 'country': 'USA'}\n"
          ]
        }
      ]
    },
    {
      "cell_type": "code",
      "source": [
        "#write a code to access the value associated with the key 'name' in dictionary{'name':'Alice','age':30}\n",
        "mydict={\n",
        "    \"name\":\"Alice\",\n",
        "    \"age\":30\n",
        "}\n",
        "value=mydict[\"name\"]\n",
        "print(value)"
      ],
      "metadata": {
        "colab": {
          "base_uri": "https://localhost:8080/"
        },
        "id": "DslvB3nT7sP0",
        "outputId": "db1a67ac-8c10-474f-ccd0-551eb778ee33"
      },
      "execution_count": null,
      "outputs": [
        {
          "output_type": "stream",
          "name": "stdout",
          "text": [
            "Alice\n"
          ]
        }
      ]
    },
    {
      "cell_type": "code",
      "source": [
        "#write a code to remove the key \"age\" from the dictionary {'name':'Bob','age':22,'city':'New York'}\n",
        "mydict={\n",
        "    \"name\":\"Bob\",\n",
        "    \"age\":22,\n",
        "    \"city\":\"New York\"\n",
        "}\n",
        "del mydict[\"age\"]\n",
        "print(mydict)\n",
        "\n"
      ],
      "metadata": {
        "colab": {
          "base_uri": "https://localhost:8080/"
        },
        "id": "pKzdFCHG8wkJ",
        "outputId": "fb8fa067-3132-40bd-dd94-514516752954"
      },
      "execution_count": null,
      "outputs": [
        {
          "output_type": "stream",
          "name": "stdout",
          "text": [
            "{'name': 'Bob', 'city': 'New York'}\n"
          ]
        }
      ]
    },
    {
      "cell_type": "code",
      "source": [
        "#write a code to check if the key \"city\" exists in the dictinary{'name':'Alice','city':'Paris}\n",
        "mydict={\n",
        "    \"name\":\"Alice\",\n",
        "    \"city\":\"Paris\"\n",
        "}\n",
        "if \"city\" in mydict:\n",
        "    print(\"city exists in the dictionary\")\n",
        "else:\n",
        "    print(\"city does not exist in the dictionary\")"
      ],
      "metadata": {
        "colab": {
          "base_uri": "https://localhost:8080/"
        },
        "id": "pIh2ohqE9yk2",
        "outputId": "63d17475-130e-4b97-b25b-4386fc4ccaa8"
      },
      "execution_count": null,
      "outputs": [
        {
          "output_type": "stream",
          "name": "stdout",
          "text": [
            "city exists in the dictionary\n"
          ]
        }
      ]
    },
    {
      "cell_type": "code",
      "source": [
        "#write a code to create a list ,a tuple,and a dictionary,and print them all\n",
        "my_list=[1,2,3]\n",
        "my_tuple=(4,5,6)\n",
        "my_dict={\"name\":\"shital\",\"age\":30}\n",
        "print(my_list)\n",
        "print(my_tuple)\n",
        "print(my_dict)"
      ],
      "metadata": {
        "colab": {
          "base_uri": "https://localhost:8080/"
        },
        "id": "425PtSUM-hql",
        "outputId": "e09855bd-fd99-4d7f-cf74-acdfc5dffeb9"
      },
      "execution_count": null,
      "outputs": [
        {
          "output_type": "stream",
          "name": "stdout",
          "text": [
            "[1, 2, 3]\n",
            "(4, 5, 6)\n",
            "{'name': 'shital', 'age': 30}\n"
          ]
        }
      ]
    },
    {
      "cell_type": "code",
      "source": [
        "#write a code to create a list of 5 random numbers between 1 and 100 ,sort it in ascending order,and print the result\n",
        "import random\n",
        "random_numbers=[random.randint(1,100) for _ in range(5)]\n",
        "random_numbers.sort()\n",
        "print(random_numbers)"
      ],
      "metadata": {
        "colab": {
          "base_uri": "https://localhost:8080/"
        },
        "id": "hJXKwqtE_HFq",
        "outputId": "0ef60e6d-a988-4688-c44f-9c7f1c956192"
      },
      "execution_count": null,
      "outputs": [
        {
          "output_type": "stream",
          "name": "stdout",
          "text": [
            "[6, 39, 54, 55, 67]\n"
          ]
        }
      ]
    },
    {
      "cell_type": "code",
      "source": [
        "#write a code to create a list with strings and print the element at the third index\n",
        "my_list=[\"cricket\",\"football\",\"chess\",\"batminton\"]\n",
        "third_element=my_list[2]\n",
        "print(third_element)"
      ],
      "metadata": {
        "colab": {
          "base_uri": "https://localhost:8080/"
        },
        "id": "kf-iASrnAFrn",
        "outputId": "5a18fa1d-92f1-4d9c-d5c3-56d869ca8723"
      },
      "execution_count": null,
      "outputs": [
        {
          "output_type": "stream",
          "name": "stdout",
          "text": [
            "chess\n"
          ]
        }
      ]
    },
    {
      "cell_type": "code",
      "source": [
        "#write a code to combine two dictionaries into one and print the result\n",
        "dict1={\"name\":\"shital\",\"age\":30}\n",
        "dict2={\"city\":\"jalgaon\",\"country\":\"india\"}\n",
        "combined_dict={**dict1,**dict2}\n",
        "print(combined_dict)\n"
      ],
      "metadata": {
        "colab": {
          "base_uri": "https://localhost:8080/"
        },
        "id": "X-3eAWceAxX9",
        "outputId": "4ac8ed58-cde4-4ff2-d15b-d9fe513e9589"
      },
      "execution_count": null,
      "outputs": [
        {
          "output_type": "stream",
          "name": "stdout",
          "text": [
            "{'name': 'shital', 'age': 30, 'city': 'jalgaon', 'country': 'india'}\n"
          ]
        }
      ]
    },
    {
      "cell_type": "code",
      "source": [
        "#write a code to convert list of strings into a set\n",
        "my_list=[\"apple\",\"banana\",\"orange\"]\n",
        "my_set=set(my_list)\n",
        "print(my_set)"
      ],
      "metadata": {
        "colab": {
          "base_uri": "https://localhost:8080/"
        },
        "id": "W5EIdVpGBzFz",
        "outputId": "9df01a47-962a-47ab-c555-36a8bb627031"
      },
      "execution_count": null,
      "outputs": [
        {
          "output_type": "stream",
          "name": "stdout",
          "text": [
            "{'banana', 'orange', 'apple'}\n"
          ]
        }
      ]
    }
  ],
  "metadata": {
    "colab": {
      "toc_visible": true,
      "provenance": []
    },
    "kernelspec": {
      "display_name": "Python 3",
      "name": "python3"
    },
    "language_info": {
      "name": "python"
    }
  },
  "nbformat": 4,
  "nbformat_minor": 0
}